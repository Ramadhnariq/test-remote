{
 "cells": [
  {
   "cell_type": "code",
   "execution_count": null,
   "id": "63bead29",
   "metadata": {},
   "outputs": [],
   "source": [
    "import numpy as np\n",
    "import pandas as pd\n",
    "import matplotlib.pyplot as plt\n",
    "from sklearn.linear_model import LinearRegression\n",
    "\n",
    "# Data dummy: jam belajar vs nilai ujian\n",
    "data = {\n",
    "    'jam_belajar': [1, 2, 3, 4, 5, 6, 7, 8, 9, 10],\n",
    "    'nilai_ujian': [50, 55, 65, 70, 65, 80, 85, 88, 90, 95]\n",
    "}\n",
    "df = pd.DataFrame(data)\n",
    "\n",
    "# Model regresi linear\n",
    "X = df[['jam_belajar']]\n",
    "y = df['nilai_ujian']\n",
    "model = LinearRegression()\n",
    "model.fit(X, y)\n",
    "\n",
    "# Prediksi dan visualisasi\n",
    "y_pred = model.predict(X)\n",
    "plt.scatter(df['jam_belajar'], df['nilai_ujian'], color='blue', label='Data Asli')\n",
    "plt.plot(df['jam_belajar'], y_pred, color='red', label='Regresi Linear')\n",
    "plt.xlabel('Jam Belajar')\n",
    "plt.ylabel('Nilai Ujian')\n",
    "plt.legend()\n",
    "plt.title('Regresi Linear Sederhana')\n",
    "plt.show()"
   ]
  }
 ],
 "metadata": {
  "language_info": {
   "name": "python"
  }
 },
 "nbformat": 4,
 "nbformat_minor": 5
}
